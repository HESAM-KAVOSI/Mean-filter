{
 "cells": [
  {
   "cell_type": "code",
   "execution_count": 1,
   "metadata": {},
   "outputs": [],
   "source": [
    "import numpy as np\n",
    "import cv2\n",
    "import os"
   ]
  },
  {
   "cell_type": "code",
   "execution_count": 2,
   "metadata": {},
   "outputs": [
    {
     "data": {
      "text/plain": [
       "True"
      ]
     },
     "execution_count": 2,
     "metadata": {},
     "output_type": "execute_result"
    }
   ],
   "source": [
    "image=cv2.imread(r'input\\face.jpg',0)\n",
    "image=cv2.equalizeHist(image)\n",
    "cv2.namedWindow(\"Input Image\", cv2.WINDOW_NORMAL);cv2.imshow(\"Input Image\",image)\n",
    "cv2.imwrite('output\\input image.jpg',image)\n"
   ]
  },
  {
   "cell_type": "code",
   "execution_count": 3,
   "metadata": {},
   "outputs": [
    {
     "data": {
      "text/plain": [
       "True"
      ]
     },
     "execution_count": 3,
     "metadata": {},
     "output_type": "execute_result"
    }
   ],
   "source": [
    "\n",
    "v,h=image.shape\n",
    "noise_image = np.copy(image)\n",
    "amount=int(input(\"Enter the amount of noise:\"))*1000\n",
    "for i in range(0,amount,1):\n",
    "    vv=np.random.randint(0,v)\n",
    "    hh=np.random.randint(0,h)\n",
    "    if np.random.randint(0,2)==0:n=255\n",
    "    else:n=0\n",
    "    noise_image[vv,hh]=n\n",
    "     \n",
    "cv2.namedWindow(\"After add nois\", cv2.WINDOW_NORMAL);cv2.imshow(\"After add nois\",noise_image)\n",
    "cv2.imwrite('output\\After add nois.jpg',noise_image)\n"
   ]
  },
  {
   "cell_type": "code",
   "execution_count": 4,
   "metadata": {},
   "outputs": [
    {
     "name": "stdout",
     "output_type": "stream",
     "text": [
      "Down\n"
     ]
    }
   ],
   "source": [
    "\n",
    "Kernel=int(input(\"Enter Kernel size:\"))\n",
    "while (Kernel%2)==0:\n",
    "    Kernel=int(input(\"Enter Kernel size must be odd:\"))\n",
    "\n",
    "a=np.arange(1,(Kernel**2)+1)\n",
    "box=a.reshape(Kernel,Kernel)\n",
    "for i in range(0,v-Kernel,1): \n",
    "\n",
    "    for j in range(0,h-Kernel,1):\n",
    "\n",
    "        for l in range(0,Kernel,1):\n",
    "\n",
    "            for m in range(0,Kernel,1):\n",
    "                box[l][m]=noise_image[i+l][m+j]\n",
    "                b=np.sort(a)\n",
    "                \n",
    "        noise_image[i+int(Kernel/2)][j+int(Kernel/2)] =b[int((Kernel**2)/2)]\n",
    "       \n",
    "       \n",
    "print(\"Down\")\n",
    "\n",
    "cv2.namedWindow(\"After filtering\", cv2.WINDOW_NORMAL);cv2.imshow(\"After filtering\",noise_image)\n",
    "cv2.imwrite('output\\After filtering.jpg',noise_image)\n",
    "key = cv2.waitKey()\n",
    "\n",
    "cv2.destroyAllWindows()\n"
   ]
  }
 ],
 "metadata": {
  "kernelspec": {
   "display_name": "Python 3",
   "language": "python",
   "name": "python3"
  },
  "language_info": {
   "codemirror_mode": {
    "name": "ipython",
    "version": 3
   },
   "file_extension": ".py",
   "mimetype": "text/x-python",
   "name": "python",
   "nbconvert_exporter": "python",
   "pygments_lexer": "ipython3",
   "version": "3.10.5"
  },
  "orig_nbformat": 4
 },
 "nbformat": 4,
 "nbformat_minor": 2
}
